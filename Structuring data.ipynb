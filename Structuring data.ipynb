{
 "cells": [
  {
   "cell_type": "markdown",
   "metadata": {},
   "source": [
    "import pandas as pd\n",
    "import numpy as np\n",
    "import cv2\n",
    "import matplotlib.pyplot as plt\n",
    "%matplotlib inline\n",
    "from glob import glob\n",
    "from PIL import Image"
   ]
  },
  {
   "cell_type": "code",
   "execution_count": 29,
   "metadata": {},
   "outputs": [],
   "source": [
    "female=glob('D:/data science/Module-2/cropped/female_crop/*.png')\n",
    "male=glob('D:/data science/Module-2/cropped/male_crop/*.png')"
   ]
  },
  {
   "cell_type": "code",
   "execution_count": 30,
   "metadata": {},
   "outputs": [],
   "source": [
    "path=male+female"
   ]
  },
  {
   "cell_type": "code",
   "execution_count": 31,
   "metadata": {},
   "outputs": [],
   "source": [
    "def  size(path):\n",
    "    img=Image.open(path)\n",
    "    return img.size[0]"
   ]
  },
  {
   "cell_type": "code",
   "execution_count": 33,
   "metadata": {},
   "outputs": [
    {
     "data": {
      "text/plain": [
       "182"
      ]
     },
     "execution_count": 33,
     "metadata": {},
     "output_type": "execute_result"
    }
   ],
   "source": [
    "size(path[0])"
   ]
  },
  {
   "cell_type": "code",
   "execution_count": 19,
   "metadata": {},
   "outputs": [],
   "source": [
    "df=pd.DataFrame(data=path,columns=['path'])"
   ]
  },
  {
   "cell_type": "code",
   "execution_count": 21,
   "metadata": {},
   "outputs": [
    {
     "data": {
      "text/plain": [
       "(6058, 1)"
      ]
     },
     "execution_count": 21,
     "metadata": {},
     "output_type": "execute_result"
    }
   ],
   "source": [
    "df.shape"
   ]
  },
  {
   "cell_type": "code",
   "execution_count": 22,
   "metadata": {},
   "outputs": [
    {
     "data": {
      "text/html": [
       "<div>\n",
       "<style scoped>\n",
       "    .dataframe tbody tr th:only-of-type {\n",
       "        vertical-align: middle;\n",
       "    }\n",
       "\n",
       "    .dataframe tbody tr th {\n",
       "        vertical-align: top;\n",
       "    }\n",
       "\n",
       "    .dataframe thead th {\n",
       "        text-align: right;\n",
       "    }\n",
       "</style>\n",
       "<table border=\"1\" class=\"dataframe\">\n",
       "  <thead>\n",
       "    <tr style=\"text-align: right;\">\n",
       "      <th></th>\n",
       "      <th>path</th>\n",
       "    </tr>\n",
       "  </thead>\n",
       "  <tbody>\n",
       "    <tr>\n",
       "      <th>0</th>\n",
       "      <td>D:/data science/Module-2/cropped/male_crop\\mal...</td>\n",
       "    </tr>\n",
       "    <tr>\n",
       "      <th>1</th>\n",
       "      <td>D:/data science/Module-2/cropped/male_crop\\mal...</td>\n",
       "    </tr>\n",
       "    <tr>\n",
       "      <th>2</th>\n",
       "      <td>D:/data science/Module-2/cropped/male_crop\\mal...</td>\n",
       "    </tr>\n",
       "    <tr>\n",
       "      <th>3</th>\n",
       "      <td>D:/data science/Module-2/cropped/male_crop\\mal...</td>\n",
       "    </tr>\n",
       "    <tr>\n",
       "      <th>4</th>\n",
       "      <td>D:/data science/Module-2/cropped/male_crop\\mal...</td>\n",
       "    </tr>\n",
       "    <tr>\n",
       "      <th>...</th>\n",
       "      <td>...</td>\n",
       "    </tr>\n",
       "    <tr>\n",
       "      <th>6053</th>\n",
       "      <td>D:/data science/Module-2/cropped/female_crop\\f...</td>\n",
       "    </tr>\n",
       "    <tr>\n",
       "      <th>6054</th>\n",
       "      <td>D:/data science/Module-2/cropped/female_crop\\f...</td>\n",
       "    </tr>\n",
       "    <tr>\n",
       "      <th>6055</th>\n",
       "      <td>D:/data science/Module-2/cropped/female_crop\\f...</td>\n",
       "    </tr>\n",
       "    <tr>\n",
       "      <th>6056</th>\n",
       "      <td>D:/data science/Module-2/cropped/female_crop\\f...</td>\n",
       "    </tr>\n",
       "    <tr>\n",
       "      <th>6057</th>\n",
       "      <td>D:/data science/Module-2/cropped/female_crop\\f...</td>\n",
       "    </tr>\n",
       "  </tbody>\n",
       "</table>\n",
       "<p>6058 rows × 1 columns</p>\n",
       "</div>"
      ],
      "text/plain": [
       "                                                   path\n",
       "0     D:/data science/Module-2/cropped/male_crop\\mal...\n",
       "1     D:/data science/Module-2/cropped/male_crop\\mal...\n",
       "2     D:/data science/Module-2/cropped/male_crop\\mal...\n",
       "3     D:/data science/Module-2/cropped/male_crop\\mal...\n",
       "4     D:/data science/Module-2/cropped/male_crop\\mal...\n",
       "...                                                 ...\n",
       "6053  D:/data science/Module-2/cropped/female_crop\\f...\n",
       "6054  D:/data science/Module-2/cropped/female_crop\\f...\n",
       "6055  D:/data science/Module-2/cropped/female_crop\\f...\n",
       "6056  D:/data science/Module-2/cropped/female_crop\\f...\n",
       "6057  D:/data science/Module-2/cropped/female_crop\\f...\n",
       "\n",
       "[6058 rows x 1 columns]"
      ]
     },
     "execution_count": 22,
     "metadata": {},
     "output_type": "execute_result"
    }
   ],
   "source": [
    "df"
   ]
  },
  {
   "cell_type": "code",
   "execution_count": 34,
   "metadata": {},
   "outputs": [],
   "source": [
    "df['size']=df['path'].apply(size)"
   ]
  },
  {
   "cell_type": "code",
   "execution_count": 35,
   "metadata": {},
   "outputs": [
    {
     "data": {
      "text/html": [
       "<div>\n",
       "<style scoped>\n",
       "    .dataframe tbody tr th:only-of-type {\n",
       "        vertical-align: middle;\n",
       "    }\n",
       "\n",
       "    .dataframe tbody tr th {\n",
       "        vertical-align: top;\n",
       "    }\n",
       "\n",
       "    .dataframe thead th {\n",
       "        text-align: right;\n",
       "    }\n",
       "</style>\n",
       "<table border=\"1\" class=\"dataframe\">\n",
       "  <thead>\n",
       "    <tr style=\"text-align: right;\">\n",
       "      <th></th>\n",
       "      <th>path</th>\n",
       "      <th>size</th>\n",
       "    </tr>\n",
       "  </thead>\n",
       "  <tbody>\n",
       "    <tr>\n",
       "      <th>0</th>\n",
       "      <td>D:/data science/Module-2/cropped/male_crop\\mal...</td>\n",
       "      <td>182</td>\n",
       "    </tr>\n",
       "    <tr>\n",
       "      <th>1</th>\n",
       "      <td>D:/data science/Module-2/cropped/male_crop\\mal...</td>\n",
       "      <td>81</td>\n",
       "    </tr>\n",
       "    <tr>\n",
       "      <th>2</th>\n",
       "      <td>D:/data science/Module-2/cropped/male_crop\\mal...</td>\n",
       "      <td>81</td>\n",
       "    </tr>\n",
       "    <tr>\n",
       "      <th>3</th>\n",
       "      <td>D:/data science/Module-2/cropped/male_crop\\mal...</td>\n",
       "      <td>122</td>\n",
       "    </tr>\n",
       "    <tr>\n",
       "      <th>4</th>\n",
       "      <td>D:/data science/Module-2/cropped/male_crop\\mal...</td>\n",
       "      <td>273</td>\n",
       "    </tr>\n",
       "    <tr>\n",
       "      <th>...</th>\n",
       "      <td>...</td>\n",
       "      <td>...</td>\n",
       "    </tr>\n",
       "    <tr>\n",
       "      <th>6053</th>\n",
       "      <td>D:/data science/Module-2/cropped/female_crop\\f...</td>\n",
       "      <td>182</td>\n",
       "    </tr>\n",
       "    <tr>\n",
       "      <th>6054</th>\n",
       "      <td>D:/data science/Module-2/cropped/female_crop\\f...</td>\n",
       "      <td>81</td>\n",
       "    </tr>\n",
       "    <tr>\n",
       "      <th>6055</th>\n",
       "      <td>D:/data science/Module-2/cropped/female_crop\\f...</td>\n",
       "      <td>122</td>\n",
       "    </tr>\n",
       "    <tr>\n",
       "      <th>6056</th>\n",
       "      <td>D:/data science/Module-2/cropped/female_crop\\f...</td>\n",
       "      <td>182</td>\n",
       "    </tr>\n",
       "    <tr>\n",
       "      <th>6057</th>\n",
       "      <td>D:/data science/Module-2/cropped/female_crop\\f...</td>\n",
       "      <td>182</td>\n",
       "    </tr>\n",
       "  </tbody>\n",
       "</table>\n",
       "<p>6058 rows × 2 columns</p>\n",
       "</div>"
      ],
      "text/plain": [
       "                                                   path  size\n",
       "0     D:/data science/Module-2/cropped/male_crop\\mal...   182\n",
       "1     D:/data science/Module-2/cropped/male_crop\\mal...    81\n",
       "2     D:/data science/Module-2/cropped/male_crop\\mal...    81\n",
       "3     D:/data science/Module-2/cropped/male_crop\\mal...   122\n",
       "4     D:/data science/Module-2/cropped/male_crop\\mal...   273\n",
       "...                                                 ...   ...\n",
       "6053  D:/data science/Module-2/cropped/female_crop\\f...   182\n",
       "6054  D:/data science/Module-2/cropped/female_crop\\f...    81\n",
       "6055  D:/data science/Module-2/cropped/female_crop\\f...   122\n",
       "6056  D:/data science/Module-2/cropped/female_crop\\f...   182\n",
       "6057  D:/data science/Module-2/cropped/female_crop\\f...   182\n",
       "\n",
       "[6058 rows x 2 columns]"
      ]
     },
     "execution_count": 35,
     "metadata": {},
     "output_type": "execute_result"
    }
   ],
   "source": [
    "df"
   ]
  },
  {
   "cell_type": "code",
   "execution_count": 36,
   "metadata": {},
   "outputs": [
    {
     "data": {
      "text/html": [
       "<div>\n",
       "<style scoped>\n",
       "    .dataframe tbody tr th:only-of-type {\n",
       "        vertical-align: middle;\n",
       "    }\n",
       "\n",
       "    .dataframe tbody tr th {\n",
       "        vertical-align: top;\n",
       "    }\n",
       "\n",
       "    .dataframe thead th {\n",
       "        text-align: right;\n",
       "    }\n",
       "</style>\n",
       "<table border=\"1\" class=\"dataframe\">\n",
       "  <thead>\n",
       "    <tr style=\"text-align: right;\">\n",
       "      <th></th>\n",
       "      <th>size</th>\n",
       "    </tr>\n",
       "  </thead>\n",
       "  <tbody>\n",
       "    <tr>\n",
       "      <th>count</th>\n",
       "      <td>6058.000000</td>\n",
       "    </tr>\n",
       "    <tr>\n",
       "      <th>mean</th>\n",
       "      <td>155.701717</td>\n",
       "    </tr>\n",
       "    <tr>\n",
       "      <th>std</th>\n",
       "      <td>72.415094</td>\n",
       "    </tr>\n",
       "    <tr>\n",
       "      <th>min</th>\n",
       "      <td>24.000000</td>\n",
       "    </tr>\n",
       "    <tr>\n",
       "      <th>25%</th>\n",
       "      <td>81.000000</td>\n",
       "    </tr>\n",
       "    <tr>\n",
       "      <th>50%</th>\n",
       "      <td>122.000000</td>\n",
       "    </tr>\n",
       "    <tr>\n",
       "      <th>75%</th>\n",
       "      <td>182.000000</td>\n",
       "    </tr>\n",
       "    <tr>\n",
       "      <th>max</th>\n",
       "      <td>410.000000</td>\n",
       "    </tr>\n",
       "  </tbody>\n",
       "</table>\n",
       "</div>"
      ],
      "text/plain": [
       "              size\n",
       "count  6058.000000\n",
       "mean    155.701717\n",
       "std      72.415094\n",
       "min      24.000000\n",
       "25%      81.000000\n",
       "50%     122.000000\n",
       "75%     182.000000\n",
       "max     410.000000"
      ]
     },
     "execution_count": 36,
     "metadata": {},
     "output_type": "execute_result"
    }
   ],
   "source": [
    "df.describe()"
   ]
  },
  {
   "cell_type": "code",
   "execution_count": 38,
   "metadata": {},
   "outputs": [
    {
     "data": {
      "text/plain": [
       "<matplotlib.axes._subplots.AxesSubplot at 0x28d849d1cc8>"
      ]
     },
     "execution_count": 38,
     "metadata": {},
     "output_type": "execute_result"
    },
    {
     "data": {
      "image/png": "[encoded data removed]",
      "text/plain": [
       "<Figure size 432x288 with 1 Axes>"
      ]
     },
     "metadata": {
      "needs_background": "light"
     },
     "output_type": "display_data"
    }
   ],
   "source": [
    "df['size'].plot(kind='box')"
   ]
  },
  {
   "cell_type": "code",
   "execution_count": 40,
   "metadata": {},
   "outputs": [
    {
     "data": {
      "text/plain": [
       "(array([   8.,    0.,  595.,    0., 1000.,    0.,    0., 1521.,    0.,\n",
       "           0.,    0.,    0., 1737.,    0.,    0.,    0.,    0.,    0.,\n",
       "           0., 1187.,    0.,    0.,    0.,    0.,    0.,    0.,    0.,\n",
       "           0.,    0.,   10.]),\n",
       " array([ 24.        ,  36.86666667,  49.73333333,  62.6       ,\n",
       "         75.46666667,  88.33333333, 101.2       , 114.06666667,\n",
       "        126.93333333, 139.8       , 152.66666667, 165.53333333,\n",
       "        178.4       , 191.26666667, 204.13333333, 217.        ,\n",
       "        229.86666667, 242.73333333, 255.6       , 268.46666667,\n",
       "        281.33333333, 294.2       , 307.06666667, 319.93333333,\n",
       "        332.8       , 345.66666667, 358.53333333, 371.4       ,\n",
       "        384.26666667, 397.13333333, 410.        ]),\n",
       " <a list of 30 Patch objects>)"
      ]
     },
     "execution_count": 40,
     "metadata": {},
     "output_type": "execute_result"
    },
    {
     "data": {
      "image/png": "[encoded data removed]",
      "text/plain": [
       "<Figure size 432x288 with 1 Axes>"
      ]
     },
     "metadata": {
      "needs_background": "light"
     },
     "output_type": "display_data"
    }
   ],
   "source": [
    "plt.hist(df['size'],bins=30)"
   ]
  },
  {
   "cell_type": "code",
   "execution_count": 43,
   "metadata": {},
   "outputs": [],
   "source": [
    "df1=df[df['size']>60]"
   ]
  },
  {
   "cell_type": "code",
   "execution_count": 44,
   "metadata": {},
   "outputs": [
    {
     "data": {
      "text/html": [
       "<div>\n",
       "<style scoped>\n",
       "    .dataframe tbody tr th:only-of-type {\n",
       "        vertical-align: middle;\n",
       "    }\n",
       "\n",
       "    .dataframe tbody tr th {\n",
       "        vertical-align: top;\n",
       "    }\n",
       "\n",
       "    .dataframe thead th {\n",
       "        text-align: right;\n",
       "    }\n",
       "</style>\n",
       "<table border=\"1\" class=\"dataframe\">\n",
       "  <thead>\n",
       "    <tr style=\"text-align: right;\">\n",
       "      <th></th>\n",
       "      <th>path</th>\n",
       "      <th>size</th>\n",
       "    </tr>\n",
       "  </thead>\n",
       "  <tbody>\n",
       "    <tr>\n",
       "      <th>0</th>\n",
       "      <td>D:/data science/Module-2/cropped/male_crop\\mal...</td>\n",
       "      <td>182</td>\n",
       "    </tr>\n",
       "    <tr>\n",
       "      <th>1</th>\n",
       "      <td>D:/data science/Module-2/cropped/male_crop\\mal...</td>\n",
       "      <td>81</td>\n",
       "    </tr>\n",
       "    <tr>\n",
       "      <th>2</th>\n",
       "      <td>D:/data science/Module-2/cropped/male_crop\\mal...</td>\n",
       "      <td>81</td>\n",
       "    </tr>\n",
       "    <tr>\n",
       "      <th>3</th>\n",
       "      <td>D:/data science/Module-2/cropped/male_crop\\mal...</td>\n",
       "      <td>122</td>\n",
       "    </tr>\n",
       "    <tr>\n",
       "      <th>4</th>\n",
       "      <td>D:/data science/Module-2/cropped/male_crop\\mal...</td>\n",
       "      <td>273</td>\n",
       "    </tr>\n",
       "    <tr>\n",
       "      <th>...</th>\n",
       "      <td>...</td>\n",
       "      <td>...</td>\n",
       "    </tr>\n",
       "    <tr>\n",
       "      <th>6053</th>\n",
       "      <td>D:/data science/Module-2/cropped/female_crop\\f...</td>\n",
       "      <td>182</td>\n",
       "    </tr>\n",
       "    <tr>\n",
       "      <th>6054</th>\n",
       "      <td>D:/data science/Module-2/cropped/female_crop\\f...</td>\n",
       "      <td>81</td>\n",
       "    </tr>\n",
       "    <tr>\n",
       "      <th>6055</th>\n",
       "      <td>D:/data science/Module-2/cropped/female_crop\\f...</td>\n",
       "      <td>122</td>\n",
       "    </tr>\n",
       "    <tr>\n",
       "      <th>6056</th>\n",
       "      <td>D:/data science/Module-2/cropped/female_crop\\f...</td>\n",
       "      <td>182</td>\n",
       "    </tr>\n",
       "    <tr>\n",
       "      <th>6057</th>\n",
       "      <td>D:/data science/Module-2/cropped/female_crop\\f...</td>\n",
       "      <td>182</td>\n",
       "    </tr>\n",
       "  </tbody>\n",
       "</table>\n",
       "<p>5455 rows × 2 columns</p>\n",
       "</div>"
      ],
      "text/plain": [
       "                                                   path  size\n",
       "0     D:/data science/Module-2/cropped/male_crop\\mal...   182\n",
       "1     D:/data science/Module-2/cropped/male_crop\\mal...    81\n",
       "2     D:/data science/Module-2/cropped/male_crop\\mal...    81\n",
       "3     D:/data science/Module-2/cropped/male_crop\\mal...   122\n",
       "4     D:/data science/Module-2/cropped/male_crop\\mal...   273\n",
       "...                                                 ...   ...\n",
       "6053  D:/data science/Module-2/cropped/female_crop\\f...   182\n",
       "6054  D:/data science/Module-2/cropped/female_crop\\f...    81\n",
       "6055  D:/data science/Module-2/cropped/female_crop\\f...   122\n",
       "6056  D:/data science/Module-2/cropped/female_crop\\f...   182\n",
       "6057  D:/data science/Module-2/cropped/female_crop\\f...   182\n",
       "\n",
       "[5455 rows x 2 columns]"
      ]
     },
     "execution_count": 44,
     "metadata": {},
     "output_type": "execute_result"
    }
   ],
   "source": [
    "df1"
   ]
  },
  {
   "cell_type": "code",
   "execution_count": 53,
   "metadata": {},
   "outputs": [],
   "source": [
    "string=df1['path'][0]\n",
    "def gender(string):\n",
    "    try:\n",
    "        return string.split(\"_\")[0].split('/')[-1]\n",
    "    except:\n",
    "        None"
   ]
  },
  {
   "cell_type": "code",
   "execution_count": 54,
   "metadata": {},
   "outputs": [],
   "source": [
    "df['gender']=df['path'].apply(gender)"
   ]
  },
  {
   "cell_type": "code",
   "execution_count": 55,
   "metadata": {},
   "outputs": [
    {
     "data": {
      "text/html": [
       "<div>\n",
       "<style scoped>\n",
       "    .dataframe tbody tr th:only-of-type {\n",
       "        vertical-align: middle;\n",
       "    }\n",
       "\n",
       "    .dataframe tbody tr th {\n",
       "        vertical-align: top;\n",
       "    }\n",
       "\n",
       "    .dataframe thead th {\n",
       "        text-align: right;\n",
       "    }\n",
       "</style>\n",
       "<table border=\"1\" class=\"dataframe\">\n",
       "  <thead>\n",
       "    <tr style=\"text-align: right;\">\n",
       "      <th></th>\n",
       "      <th>path</th>\n",
       "      <th>size</th>\n",
       "      <th>gender</th>\n",
       "    </tr>\n",
       "  </thead>\n",
       "  <tbody>\n",
       "    <tr>\n",
       "      <th>0</th>\n",
       "      <td>D:/data science/Module-2/cropped/male_crop\\mal...</td>\n",
       "      <td>182</td>\n",
       "      <td>male</td>\n",
       "    </tr>\n",
       "    <tr>\n",
       "      <th>1</th>\n",
       "      <td>D:/data science/Module-2/cropped/male_crop\\mal...</td>\n",
       "      <td>81</td>\n",
       "      <td>male</td>\n",
       "    </tr>\n",
       "    <tr>\n",
       "      <th>2</th>\n",
       "      <td>D:/data science/Module-2/cropped/male_crop\\mal...</td>\n",
       "      <td>81</td>\n",
       "      <td>male</td>\n",
       "    </tr>\n",
       "    <tr>\n",
       "      <th>3</th>\n",
       "      <td>D:/data science/Module-2/cropped/male_crop\\mal...</td>\n",
       "      <td>122</td>\n",
       "      <td>male</td>\n",
       "    </tr>\n",
       "    <tr>\n",
       "      <th>4</th>\n",
       "      <td>D:/data science/Module-2/cropped/male_crop\\mal...</td>\n",
       "      <td>273</td>\n",
       "      <td>male</td>\n",
       "    </tr>\n",
       "    <tr>\n",
       "      <th>...</th>\n",
       "      <td>...</td>\n",
       "      <td>...</td>\n",
       "      <td>...</td>\n",
       "    </tr>\n",
       "    <tr>\n",
       "      <th>6053</th>\n",
       "      <td>D:/data science/Module-2/cropped/female_crop\\f...</td>\n",
       "      <td>182</td>\n",
       "      <td>female</td>\n",
       "    </tr>\n",
       "    <tr>\n",
       "      <th>6054</th>\n",
       "      <td>D:/data science/Module-2/cropped/female_crop\\f...</td>\n",
       "      <td>81</td>\n",
       "      <td>female</td>\n",
       "    </tr>\n",
       "    <tr>\n",
       "      <th>6055</th>\n",
       "      <td>D:/data science/Module-2/cropped/female_crop\\f...</td>\n",
       "      <td>122</td>\n",
       "      <td>female</td>\n",
       "    </tr>\n",
       "    <tr>\n",
       "      <th>6056</th>\n",
       "      <td>D:/data science/Module-2/cropped/female_crop\\f...</td>\n",
       "      <td>182</td>\n",
       "      <td>female</td>\n",
       "    </tr>\n",
       "    <tr>\n",
       "      <th>6057</th>\n",
       "      <td>D:/data science/Module-2/cropped/female_crop\\f...</td>\n",
       "      <td>182</td>\n",
       "      <td>female</td>\n",
       "    </tr>\n",
       "  </tbody>\n",
       "</table>\n",
       "<p>6058 rows × 3 columns</p>\n",
       "</div>"
      ],
      "text/plain": [
       "                                                   path  size  gender\n",
       "0     D:/data science/Module-2/cropped/male_crop\\mal...   182    male\n",
       "1     D:/data science/Module-2/cropped/male_crop\\mal...    81    male\n",
       "2     D:/data science/Module-2/cropped/male_crop\\mal...    81    male\n",
       "3     D:/data science/Module-2/cropped/male_crop\\mal...   122    male\n",
       "4     D:/data science/Module-2/cropped/male_crop\\mal...   273    male\n",
       "...                                                 ...   ...     ...\n",
       "6053  D:/data science/Module-2/cropped/female_crop\\f...   182  female\n",
       "6054  D:/data science/Module-2/cropped/female_crop\\f...    81  female\n",
       "6055  D:/data science/Module-2/cropped/female_crop\\f...   122  female\n",
       "6056  D:/data science/Module-2/cropped/female_crop\\f...   182  female\n",
       "6057  D:/data science/Module-2/cropped/female_crop\\f...   182  female\n",
       "\n",
       "[6058 rows x 3 columns]"
      ]
     },
     "execution_count": 55,
     "metadata": {},
     "output_type": "execute_result"
    }
   ],
   "source": [
    "df"
   ]
  },
  {
   "cell_type": "code",
   "execution_count": 57,
   "metadata": {},
   "outputs": [
    {
     "data": {
      "text/plain": [
       "<matplotlib.axes._subplots.AxesSubplot at 0x28d85f05a48>"
      ]
     },
     "execution_count": 57,
     "metadata": {},
     "output_type": "execute_result"
    },
    {
     "data": {
      "image/png": "[encoded data removed]",
      "text/plain": [
       "<Figure size 432x288 with 1 Axes>"
      ]
     },
     "metadata": {},
     "output_type": "display_data"
    }
   ],
   "source": [
    "df['gender'].value_counts().plot(kind='pie')"
   ]
  },
  {
   "cell_type": "code",
   "execution_count": 59,
   "metadata": {},
   "outputs": [
    {
     "name": "stdout",
     "output_type": "stream",
     "text": [
      "female    0.592605\n",
      "male      0.407395\n",
      "Name: gender, dtype: float64\n"
     ]
    }
   ],
   "source": [
    "print(df['gender'].value_counts(normalize=True))"
   ]
  },
  {
   "cell_type": "code",
   "execution_count": 64,
   "metadata": {},
   "outputs": [],
   "source": [
    "##60% are female images rest are of males#\n",
    "#size of smallest image is more than 60"
   ]
  },
  {
   "cell_type": "code",
   "execution_count": 65,
   "metadata": {},
   "outputs": [
    {
     "name": "stderr",
     "output_type": "stream",
     "text": [
      "E:\\anaconda\\lib\\site-packages\\ipykernel_launcher.py:1: SettingWithCopyWarning: \n",
      "A value is trying to be set on a copy of a slice from a DataFrame.\n",
      "Try using .loc[row_indexer,col_indexer] = value instead\n",
      "\n",
      "See the caveats in the documentation: https://pandas.pydata.org/pandas-docs/stable/user_guide/indexing.html#returning-a-view-versus-a-copy\n",
      "  \"\"\"Entry point for launching an IPython kernel.\n"
     ]
    }
   ],
   "source": [
    "df1['gender']=df1['path'].apply(gender)"
   ]
  },
  {
   "cell_type": "code",
   "execution_count": 66,
   "metadata": {},
   "outputs": [
    {
     "data": {
      "text/html": [
       "<div>\n",
       "<style scoped>\n",
       "    .dataframe tbody tr th:only-of-type {\n",
       "        vertical-align: middle;\n",
       "    }\n",
       "\n",
       "    .dataframe tbody tr th {\n",
       "        vertical-align: top;\n",
       "    }\n",
       "\n",
       "    .dataframe thead th {\n",
       "        text-align: right;\n",
       "    }\n",
       "</style>\n",
       "<table border=\"1\" class=\"dataframe\">\n",
       "  <thead>\n",
       "    <tr style=\"text-align: right;\">\n",
       "      <th></th>\n",
       "      <th>path</th>\n",
       "      <th>size</th>\n",
       "      <th>gender</th>\n",
       "    </tr>\n",
       "  </thead>\n",
       "  <tbody>\n",
       "    <tr>\n",
       "      <th>0</th>\n",
       "      <td>D:/data science/Module-2/cropped/male_crop\\mal...</td>\n",
       "      <td>182</td>\n",
       "      <td>male</td>\n",
       "    </tr>\n",
       "    <tr>\n",
       "      <th>1</th>\n",
       "      <td>D:/data science/Module-2/cropped/male_crop\\mal...</td>\n",
       "      <td>81</td>\n",
       "      <td>male</td>\n",
       "    </tr>\n",
       "    <tr>\n",
       "      <th>2</th>\n",
       "      <td>D:/data science/Module-2/cropped/male_crop\\mal...</td>\n",
       "      <td>81</td>\n",
       "      <td>male</td>\n",
       "    </tr>\n",
       "    <tr>\n",
       "      <th>3</th>\n",
       "      <td>D:/data science/Module-2/cropped/male_crop\\mal...</td>\n",
       "      <td>122</td>\n",
       "      <td>male</td>\n",
       "    </tr>\n",
       "    <tr>\n",
       "      <th>4</th>\n",
       "      <td>D:/data science/Module-2/cropped/male_crop\\mal...</td>\n",
       "      <td>273</td>\n",
       "      <td>male</td>\n",
       "    </tr>\n",
       "    <tr>\n",
       "      <th>...</th>\n",
       "      <td>...</td>\n",
       "      <td>...</td>\n",
       "      <td>...</td>\n",
       "    </tr>\n",
       "    <tr>\n",
       "      <th>6053</th>\n",
       "      <td>D:/data science/Module-2/cropped/female_crop\\f...</td>\n",
       "      <td>182</td>\n",
       "      <td>female</td>\n",
       "    </tr>\n",
       "    <tr>\n",
       "      <th>6054</th>\n",
       "      <td>D:/data science/Module-2/cropped/female_crop\\f...</td>\n",
       "      <td>81</td>\n",
       "      <td>female</td>\n",
       "    </tr>\n",
       "    <tr>\n",
       "      <th>6055</th>\n",
       "      <td>D:/data science/Module-2/cropped/female_crop\\f...</td>\n",
       "      <td>122</td>\n",
       "      <td>female</td>\n",
       "    </tr>\n",
       "    <tr>\n",
       "      <th>6056</th>\n",
       "      <td>D:/data science/Module-2/cropped/female_crop\\f...</td>\n",
       "      <td>182</td>\n",
       "      <td>female</td>\n",
       "    </tr>\n",
       "    <tr>\n",
       "      <th>6057</th>\n",
       "      <td>D:/data science/Module-2/cropped/female_crop\\f...</td>\n",
       "      <td>182</td>\n",
       "      <td>female</td>\n",
       "    </tr>\n",
       "  </tbody>\n",
       "</table>\n",
       "<p>5455 rows × 3 columns</p>\n",
       "</div>"
      ],
      "text/plain": [
       "                                                   path  size  gender\n",
       "0     D:/data science/Module-2/cropped/male_crop\\mal...   182    male\n",
       "1     D:/data science/Module-2/cropped/male_crop\\mal...    81    male\n",
       "2     D:/data science/Module-2/cropped/male_crop\\mal...    81    male\n",
       "3     D:/data science/Module-2/cropped/male_crop\\mal...   122    male\n",
       "4     D:/data science/Module-2/cropped/male_crop\\mal...   273    male\n",
       "...                                                 ...   ...     ...\n",
       "6053  D:/data science/Module-2/cropped/female_crop\\f...   182  female\n",
       "6054  D:/data science/Module-2/cropped/female_crop\\f...    81  female\n",
       "6055  D:/data science/Module-2/cropped/female_crop\\f...   122  female\n",
       "6056  D:/data science/Module-2/cropped/female_crop\\f...   182  female\n",
       "6057  D:/data science/Module-2/cropped/female_crop\\f...   182  female\n",
       "\n",
       "[5455 rows x 3 columns]"
      ]
     },
     "execution_count": 66,
     "metadata": {},
     "output_type": "execute_result"
    }
   ],
   "source": [
    "df1"
   ]
  },
  {
   "cell_type": "markdown",
   "metadata": {},
   "source": [
    "# Resize Image"
   ]
  },
  {
   "cell_type": "code",
   "execution_count": 67,
   "metadata": {},
   "outputs": [],
   "source": [
    "#read image"
   ]
  },
  {
   "cell_type": "code",
   "execution_count": 68,
   "metadata": {},
   "outputs": [],
   "source": [
    "path_resize=df['path'][0]"
   ]
  },
  {
   "cell_type": "code",
   "execution_count": 70,
   "metadata": {},
   "outputs": [],
   "source": [
    "img=cv2.imread(path_resize)"
   ]
  },
  {
   "cell_type": "code",
   "execution_count": 71,
   "metadata": {},
   "outputs": [],
   "source": [
    "#convert to gray scale"
   ]
  },
  {
   "cell_type": "code",
   "execution_count": 73,
   "metadata": {},
   "outputs": [],
   "source": [
    "gray=cv2.cvtColor(img,cv2.COLOR_BGR2GRAY)"
   ]
  },
  {
   "cell_type": "code",
   "execution_count": 76,
   "metadata": {},
   "outputs": [],
   "source": [
    "path_resize=df['path'][0]\n",
    "#read image\n",
    "img=cv2.imread(path_resize)\n",
    "#convert to gray scale\n",
    "gray=cv2.cvtColor(img,cv2.COLOR_BGR2GRAY)\n",
    "#resize into 100x100\n",
    "size=gray.shape[0]\n",
    "if size>=100:\n",
    "    gray_re=cv2.resize(gray,(100,100),cv2.INTER_AREA)#shrink\n",
    "else:\n",
    "    gray_re=cv2.resize(gray,(100,100),cv2.INTER_CUBIC)#shrink\n"
   ]
  },
  {
   "cell_type": "code",
   "execution_count": 77,
   "metadata": {},
   "outputs": [
    {
     "data": {
      "text/plain": [
       "(100, 100)"
      ]
     },
     "execution_count": 77,
     "metadata": {},
     "output_type": "execute_result"
    }
   ],
   "source": [
    "gray_re.shape"
   ]
  },
  {
   "cell_type": "code",
   "execution_count": 82,
   "metadata": {},
   "outputs": [
    {
     "data": {
      "text/plain": [
       "<matplotlib.image.AxesImage at 0x28d880ebac8>"
      ]
     },
     "execution_count": 82,
     "metadata": {},
     "output_type": "execute_result"
    },
    {
     "data": {
      "image/png": "[encoded data removed]",
      "text/plain": [
       "<Figure size 432x288 with 1 Axes>"
      ]
     },
     "metadata": {
      "needs_background": "light"
     },
     "output_type": "display_data"
    }
   ],
   "source": [
    "plt.imshow(gray_re,cmap='gray')"
   ]
  },
  {
   "cell_type": "code",
   "execution_count": 83,
   "metadata": {},
   "outputs": [],
   "source": [
    "def re_size(path_resize):\n",
    "    img=cv2.imread(path_resize)\n",
    "#convert to gray scale\n",
    "    gray=cv2.cvtColor(img,cv2.COLOR_BGR2GRAY)\n",
    "#resize into 100x100\n",
    "    size=gray.shape[0]\n",
    "    try:\n",
    "        if size>=100:\n",
    "        gray_re=cv2.resize(gray,(100,100),cv2.INTER_AREA)#shrink\n",
    "        else:\n",
    "        gray_re=cv2.resize(gray,(100,100),cv2.INTER_CUBIC)#shrink\n",
    "        return gray_re.flatten()\n",
    "    except:\n",
    "        None"
   ]
  },
  {
   "cell_type": "code",
   "execution_count": 85,
   "metadata": {},
   "outputs": [
    {
     "data": {
      "text/plain": [
       "10000"
      ]
     },
     "execution_count": 85,
     "metadata": {},
     "output_type": "execute_result"
    }
   ],
   "source": [
    "len(re_size(path[0]))"
   ]
  },
  {
   "cell_type": "code",
   "execution_count": 86,
   "metadata": {},
   "outputs": [
    {
     "name": "stderr",
     "output_type": "stream",
     "text": [
      "E:\\anaconda\\lib\\site-packages\\ipykernel_launcher.py:1: SettingWithCopyWarning: \n",
      "A value is trying to be set on a copy of a slice from a DataFrame.\n",
      "Try using .loc[row_indexer,col_indexer] = value instead\n",
      "\n",
      "See the caveats in the documentation: https://pandas.pydata.org/pandas-docs/stable/user_guide/indexing.html#returning-a-view-versus-a-copy\n",
      "  \"\"\"Entry point for launching an IPython kernel.\n"
     ]
    }
   ],
   "source": [
    "df1['structured data']=df1['path'].apply(re_size)"
   ]
  },
  {
   "cell_type": "code",
   "execution_count": 88,
   "metadata": {},
   "outputs": [
    {
     "data": {
      "text/html": [
       "<div>\n",
       "<style scoped>\n",
       "    .dataframe tbody tr th:only-of-type {\n",
       "        vertical-align: middle;\n",
       "    }\n",
       "\n",
       "    .dataframe tbody tr th {\n",
       "        vertical-align: top;\n",
       "    }\n",
       "\n",
       "    .dataframe thead th {\n",
       "        text-align: right;\n",
       "    }\n",
       "</style>\n",
       "<table border=\"1\" class=\"dataframe\">\n",
       "  <thead>\n",
       "    <tr style=\"text-align: right;\">\n",
       "      <th></th>\n",
       "      <th>path</th>\n",
       "      <th>size</th>\n",
       "      <th>gender</th>\n",
       "      <th>structured data</th>\n",
       "    </tr>\n",
       "  </thead>\n",
       "  <tbody>\n",
       "    <tr>\n",
       "      <th>0</th>\n",
       "      <td>D:/data science/Module-2/cropped/male_crop\\mal...</td>\n",
       "      <td>182</td>\n",
       "      <td>male</td>\n",
       "      <td>[106, 100, 81, 69, 71, 48, 51, 55, 41, 17, 30,...</td>\n",
       "    </tr>\n",
       "    <tr>\n",
       "      <th>1</th>\n",
       "      <td>D:/data science/Module-2/cropped/male_crop\\mal...</td>\n",
       "      <td>81</td>\n",
       "      <td>male</td>\n",
       "      <td>[45, 47, 48, 48, 48, 49, 50, 52, 50, 45, 46, 4...</td>\n",
       "    </tr>\n",
       "    <tr>\n",
       "      <th>2</th>\n",
       "      <td>D:/data science/Module-2/cropped/male_crop\\mal...</td>\n",
       "      <td>81</td>\n",
       "      <td>male</td>\n",
       "      <td>[165, 184, 209, 224, 220, 211, 193, 170, 153, ...</td>\n",
       "    </tr>\n",
       "    <tr>\n",
       "      <th>3</th>\n",
       "      <td>D:/data science/Module-2/cropped/male_crop\\mal...</td>\n",
       "      <td>122</td>\n",
       "      <td>male</td>\n",
       "      <td>[141, 143, 148, 156, 161, 173, 157, 138, 146, ...</td>\n",
       "    </tr>\n",
       "    <tr>\n",
       "      <th>4</th>\n",
       "      <td>D:/data science/Module-2/cropped/male_crop\\mal...</td>\n",
       "      <td>273</td>\n",
       "      <td>male</td>\n",
       "      <td>[180, 115, 41, 103, 23, 25, 36, 35, 25, 31, 38...</td>\n",
       "    </tr>\n",
       "  </tbody>\n",
       "</table>\n",
       "</div>"
      ],
      "text/plain": [
       "                                                path  size gender  \\\n",
       "0  D:/data science/Module-2/cropped/male_crop\\mal...   182   male   \n",
       "1  D:/data science/Module-2/cropped/male_crop\\mal...    81   male   \n",
       "2  D:/data science/Module-2/cropped/male_crop\\mal...    81   male   \n",
       "3  D:/data science/Module-2/cropped/male_crop\\mal...   122   male   \n",
       "4  D:/data science/Module-2/cropped/male_crop\\mal...   273   male   \n",
       "\n",
       "                                     structured data  \n",
       "0  [106, 100, 81, 69, 71, 48, 51, 55, 41, 17, 30,...  \n",
       "1  [45, 47, 48, 48, 48, 49, 50, 52, 50, 45, 46, 4...  \n",
       "2  [165, 184, 209, 224, 220, 211, 193, 170, 153, ...  \n",
       "3  [141, 143, 148, 156, 161, 173, 157, 138, 146, ...  \n",
       "4  [180, 115, 41, 103, 23, 25, 36, 35, 25, 31, 38...  "
      ]
     },
     "execution_count": 88,
     "metadata": {},
     "output_type": "execute_result"
    }
   ],
   "source": [
    "df1.head()"
   ]
  },
  {
   "cell_type": "code",
   "execution_count": 89,
   "metadata": {},
   "outputs": [],
   "source": [
    "df2=df1['structured data'].apply(pd.Series)"
   ]
  },
  {
   "cell_type": "code",
   "execution_count": 90,
   "metadata": {},
   "outputs": [
    {
     "data": {
      "text/html": [
       "<div>\n",
       "<style scoped>\n",
       "    .dataframe tbody tr th:only-of-type {\n",
       "        vertical-align: middle;\n",
       "    }\n",
       "\n",
       "    .dataframe tbody tr th {\n",
       "        vertical-align: top;\n",
       "    }\n",
       "\n",
       "    .dataframe thead th {\n",
       "        text-align: right;\n",
       "    }\n",
       "</style>\n",
       "<table border=\"1\" class=\"dataframe\">\n",
       "  <thead>\n",
       "    <tr style=\"text-align: right;\">\n",
       "      <th></th>\n",
       "      <th>0</th>\n",
       "      <th>1</th>\n",
       "      <th>2</th>\n",
       "      <th>3</th>\n",
       "      <th>4</th>\n",
       "      <th>5</th>\n",
       "      <th>6</th>\n",
       "      <th>7</th>\n",
       "      <th>8</th>\n",
       "      <th>9</th>\n",
       "      <th>...</th>\n",
       "      <th>9990</th>\n",
       "      <th>9991</th>\n",
       "      <th>9992</th>\n",
       "      <th>9993</th>\n",
       "      <th>9994</th>\n",
       "      <th>9995</th>\n",
       "      <th>9996</th>\n",
       "      <th>9997</th>\n",
       "      <th>9998</th>\n",
       "      <th>9999</th>\n",
       "    </tr>\n",
       "  </thead>\n",
       "  <tbody>\n",
       "    <tr>\n",
       "      <th>0</th>\n",
       "      <td>106</td>\n",
       "      <td>100</td>\n",
       "      <td>81</td>\n",
       "      <td>69</td>\n",
       "      <td>71</td>\n",
       "      <td>48</td>\n",
       "      <td>51</td>\n",
       "      <td>55</td>\n",
       "      <td>41</td>\n",
       "      <td>17</td>\n",
       "      <td>...</td>\n",
       "      <td>17</td>\n",
       "      <td>18</td>\n",
       "      <td>26</td>\n",
       "      <td>28</td>\n",
       "      <td>31</td>\n",
       "      <td>30</td>\n",
       "      <td>31</td>\n",
       "      <td>29</td>\n",
       "      <td>31</td>\n",
       "      <td>31</td>\n",
       "    </tr>\n",
       "    <tr>\n",
       "      <th>1</th>\n",
       "      <td>45</td>\n",
       "      <td>47</td>\n",
       "      <td>48</td>\n",
       "      <td>48</td>\n",
       "      <td>48</td>\n",
       "      <td>49</td>\n",
       "      <td>50</td>\n",
       "      <td>52</td>\n",
       "      <td>50</td>\n",
       "      <td>45</td>\n",
       "      <td>...</td>\n",
       "      <td>137</td>\n",
       "      <td>135</td>\n",
       "      <td>134</td>\n",
       "      <td>135</td>\n",
       "      <td>138</td>\n",
       "      <td>138</td>\n",
       "      <td>137</td>\n",
       "      <td>138</td>\n",
       "      <td>138</td>\n",
       "      <td>135</td>\n",
       "    </tr>\n",
       "    <tr>\n",
       "      <th>2</th>\n",
       "      <td>165</td>\n",
       "      <td>184</td>\n",
       "      <td>209</td>\n",
       "      <td>224</td>\n",
       "      <td>220</td>\n",
       "      <td>211</td>\n",
       "      <td>193</td>\n",
       "      <td>170</td>\n",
       "      <td>153</td>\n",
       "      <td>148</td>\n",
       "      <td>...</td>\n",
       "      <td>14</td>\n",
       "      <td>14</td>\n",
       "      <td>14</td>\n",
       "      <td>13</td>\n",
       "      <td>13</td>\n",
       "      <td>14</td>\n",
       "      <td>14</td>\n",
       "      <td>14</td>\n",
       "      <td>14</td>\n",
       "      <td>15</td>\n",
       "    </tr>\n",
       "    <tr>\n",
       "      <th>3</th>\n",
       "      <td>141</td>\n",
       "      <td>143</td>\n",
       "      <td>148</td>\n",
       "      <td>156</td>\n",
       "      <td>161</td>\n",
       "      <td>173</td>\n",
       "      <td>157</td>\n",
       "      <td>138</td>\n",
       "      <td>146</td>\n",
       "      <td>121</td>\n",
       "      <td>...</td>\n",
       "      <td>205</td>\n",
       "      <td>203</td>\n",
       "      <td>173</td>\n",
       "      <td>86</td>\n",
       "      <td>72</td>\n",
       "      <td>60</td>\n",
       "      <td>46</td>\n",
       "      <td>59</td>\n",
       "      <td>88</td>\n",
       "      <td>148</td>\n",
       "    </tr>\n",
       "    <tr>\n",
       "      <th>4</th>\n",
       "      <td>180</td>\n",
       "      <td>115</td>\n",
       "      <td>41</td>\n",
       "      <td>103</td>\n",
       "      <td>23</td>\n",
       "      <td>25</td>\n",
       "      <td>36</td>\n",
       "      <td>35</td>\n",
       "      <td>25</td>\n",
       "      <td>31</td>\n",
       "      <td>...</td>\n",
       "      <td>112</td>\n",
       "      <td>110</td>\n",
       "      <td>104</td>\n",
       "      <td>112</td>\n",
       "      <td>86</td>\n",
       "      <td>83</td>\n",
       "      <td>116</td>\n",
       "      <td>126</td>\n",
       "      <td>111</td>\n",
       "      <td>113</td>\n",
       "    </tr>\n",
       "  </tbody>\n",
       "</table>\n",
       "<p>5 rows × 10000 columns</p>\n",
       "</div>"
      ],
      "text/plain": [
       "   0     1     2     3     4     5     6     7     8     9     ...  9990  \\\n",
       "0   106   100    81    69    71    48    51    55    41    17  ...    17   \n",
       "1    45    47    48    48    48    49    50    52    50    45  ...   137   \n",
       "2   165   184   209   224   220   211   193   170   153   148  ...    14   \n",
       "3   141   143   148   156   161   173   157   138   146   121  ...   205   \n",
       "4   180   115    41   103    23    25    36    35    25    31  ...   112   \n",
       "\n",
       "   9991  9992  9993  9994  9995  9996  9997  9998  9999  \n",
       "0    18    26    28    31    30    31    29    31    31  \n",
       "1   135   134   135   138   138   137   138   138   135  \n",
       "2    14    14    13    13    14    14    14    14    15  \n",
       "3   203   173    86    72    60    46    59    88   148  \n",
       "4   110   104   112    86    83   116   126   111   113  \n",
       "\n",
       "[5 rows x 10000 columns]"
      ]
     },
     "execution_count": 90,
     "metadata": {},
     "output_type": "execute_result"
    }
   ],
   "source": [
    "df2.head()"
   ]
  },
  {
   "cell_type": "code",
   "execution_count": 91,
   "metadata": {},
   "outputs": [],
   "source": [
    "df2=pd.concat((df1['gender'],df2),axis=1)"
   ]
  },
  {
   "cell_type": "code",
   "execution_count": 102,
   "metadata": {},
   "outputs": [
    {
     "data": {
      "text/plain": [
       "(5455, 10001)"
      ]
     },
     "execution_count": 102,
     "metadata": {},
     "output_type": "execute_result"
    }
   ],
   "source": [
    "df2.shape"
   ]
  },
  {
   "cell_type": "code",
   "execution_count": 98,
   "metadata": {},
   "outputs": [
    {
     "data": {
      "text/plain": [
       "<matplotlib.image.AxesImage at 0x28d85dae108>"
      ]
     },
     "execution_count": 98,
     "metadata": {},
     "output_type": "execute_result"
    },
    {
     "data": {
      "image/png": "[encoded data removed]",
      "text/plain": [
       "<Figure size 432x288 with 1 Axes>"
      ]
     },
     "metadata": {
      "needs_background": "light"
     },
     "output_type": "display_data"
    }
   ],
   "source": [
    "plt.imshow(df2.loc[0][1:].values.reshape(100,100).astype('int'),cmap='gray')"
   ]
  },
  {
   "cell_type": "code",
   "execution_count": 100,
   "metadata": {},
   "outputs": [],
   "source": [
    "import pickle"
   ]
  },
  {
   "cell_type": "code",
   "execution_count": 101,
   "metadata": {},
   "outputs": [],
   "source": [
    "pickle.dump(df2,open(\"D:/data science/Module-2/data/dataframe_images_100_100.pickle\",\"wb\"))"
   ]
  },
  {
   "cell_type": "code",
   "execution_count": null,
   "metadata": {},
   "outputs": [],
   "source": []
  }
 ],
 "metadata": {
  "kernelspec": {
   "display_name": "Python 3",
   "language": "python",
   "name": "python3"
  },
  "language_info": {
   "codemirror_mode": {
    "name": "ipython",
    "version": 3
   },
   "file_extension": ".py",
   "mimetype": "text/x-python",
   "name": "python",
   "nbconvert_exporter": "python",
   "pygments_lexer": "ipython3",
   "version": "3.7.6"
  }
 },
 "nbformat": 4,
 "nbformat_minor": 4
}
